{
 "cells": [
  {
   "cell_type": "code",
   "execution_count": 1,
   "id": "ca690ea1-f15d-4249-8f7f-d86f8bb218e1",
   "metadata": {},
   "outputs": [
    {
     "data": {
      "text/html": [
       "<div>\n",
       "<style scoped>\n",
       "    .dataframe tbody tr th:only-of-type {\n",
       "        vertical-align: middle;\n",
       "    }\n",
       "\n",
       "    .dataframe tbody tr th {\n",
       "        vertical-align: top;\n",
       "    }\n",
       "\n",
       "    .dataframe thead th {\n",
       "        text-align: right;\n",
       "    }\n",
       "</style>\n",
       "<table border=\"1\" class=\"dataframe\">\n",
       "  <thead>\n",
       "    <tr style=\"text-align: right;\">\n",
       "      <th></th>\n",
       "      <th>group</th>\n",
       "      <th>clicked</th>\n",
       "    </tr>\n",
       "  </thead>\n",
       "  <tbody>\n",
       "    <tr>\n",
       "      <th>0</th>\n",
       "      <td>A</td>\n",
       "      <td>0</td>\n",
       "    </tr>\n",
       "    <tr>\n",
       "      <th>1</th>\n",
       "      <td>A</td>\n",
       "      <td>1</td>\n",
       "    </tr>\n",
       "    <tr>\n",
       "      <th>2</th>\n",
       "      <td>A</td>\n",
       "      <td>0</td>\n",
       "    </tr>\n",
       "    <tr>\n",
       "      <th>3</th>\n",
       "      <td>A</td>\n",
       "      <td>0</td>\n",
       "    </tr>\n",
       "    <tr>\n",
       "      <th>4</th>\n",
       "      <td>A</td>\n",
       "      <td>0</td>\n",
       "    </tr>\n",
       "  </tbody>\n",
       "</table>\n",
       "</div>"
      ],
      "text/plain": [
       "  group  clicked\n",
       "0     A        0\n",
       "1     A        1\n",
       "2     A        0\n",
       "3     A        0\n",
       "4     A        0"
      ]
     },
     "execution_count": 1,
     "metadata": {},
     "output_type": "execute_result"
    }
   ],
   "source": [
    "import numpy as np\n",
    "import pandas as pd\n",
    "\n",
    "# Set seed for reproducibility\n",
    "np.random.seed(42)\n",
    "\n",
    "# Number of emails sent to the participants per version\n",
    "n_A = 10000\n",
    "n_B = 10000\n",
    "#We pretend that 10,000 people received Version A, and another 10,000 people received Version B.\n",
    "\n",
    "# True click-through rates\n",
    "ctr_A = 0.10  # Version A leads to 10% clicks (i.e., 1 in 10 people clicked)\n",
    "ctr_B = 0.12  # Version B leads to 12% clicks (slightly better)\n",
    "\n",
    "# Simulate clicks (1 = clicked, 0 = not clicked)\n",
    "#We use np.random.binomial to simulate yes/no outcomes based on the given CTR.\n",
    "clicks_A = np.random.binomial(1, ctr_A, n_A)\n",
    "clicks_B = np.random.binomial(1, ctr_B, n_B)\n",
    "\n",
    "# Create DataFrame\n",
    "ab_test_df = pd.DataFrame({\n",
    "    \"group\": [\"A\"] * n_A + [\"B\"] * n_B,\n",
    "    \"clicked\": np.concatenate([clicks_A, clicks_B])\n",
    "})\n",
    "\n",
    "ab_test_df.head()"
   ]
  },
  {
   "cell_type": "markdown",
   "id": "c51a4c64-7a8e-46d5-87c2-be542075ec59",
   "metadata": {},
   "source": [
    "Is the 2% increase in clicks for Version B actually significant, or just due to random chance?"
   ]
  },
  {
   "cell_type": "markdown",
   "id": "63f29c5e-c84a-4da9-ac55-45872a0816f7",
   "metadata": {},
   "source": [
    "## Statistical Test (Z-Test)"
   ]
  },
  {
   "cell_type": "markdown",
   "id": "02f59fcf-caa8-4151-a121-ca1172a405b9",
   "metadata": {},
   "source": [
    "Null Hypothesis (H₀): There is no difference between version A and B (CTR_A = CTR_B).\n",
    "\n",
    "Alternative Hypothesis (H₁): There is a difference (CTR_B > CTR_A).\n",
    "\n",
    "Need to calculate: the difference in proportions, the z-score and the p-value"
   ]
  },
  {
   "cell_type": "code",
   "execution_count": 4,
   "id": "66b67544-5313-41ef-be8b-753248ae725a",
   "metadata": {},
   "outputs": [
    {
     "name": "stdout",
     "output_type": "stream",
     "text": [
      "Z-statistic: 6.4957\n",
      "P-value: 0.0000\n"
     ]
    }
   ],
   "source": [
    "from statsmodels.stats.proportion import proportions_ztest\n",
    "\n",
    "# Clicks from each group\n",
    "clicks = [sum(clicks_B), sum(clicks_A)]\n",
    "\n",
    "# Total users in each group\n",
    "nobs = [len(clicks_B), len(clicks_A)]\n",
    "\n",
    "# Run the z-test for proportions\n",
    "stat, pval = proportions_ztest(count=clicks, nobs=nobs, alternative='larger')\n",
    "\n",
    "print(f\"Z-statistic: {stat:.4f}\")\n",
    "print(f\"P-value: {pval:.4f}\")"
   ]
  },
  {
   "cell_type": "markdown",
   "id": "5845e573-fe94-4f93-a625-a2bc7ad257a9",
   "metadata": {},
   "source": [
    "We have a very high Z score, 6.4957, meaning the difference between the two proportions is statistically significant.\n",
    "And p-value is way below the significance level.\n",
    "Thus, we reject the null hypothesis. Hence, there is a significant evidence suggesting the click-through rate of version B is higher than version A. \n",
    "As per the business implication, version B needs to be deployed since it is performing better in terms of user engagement."
   ]
  },
  {
   "cell_type": "code",
   "execution_count": 5,
   "id": "b1fd11ee-0913-4119-99d2-72678ff66ed3",
   "metadata": {},
   "outputs": [
    {
     "name": "stderr",
     "output_type": "stream",
     "text": [
      "C:\\Users\\Shreha\\anaconda3\\lib\\site-packages\\IPython\\core\\pylabtools.py:152: UserWarning: Glyph 128202 (\\N{BAR CHART}) missing from current font.\n",
      "  fig.canvas.print_figure(bytes_io, **kw)\n"
     ]
    },
    {
     "data": {
      "image/png": "[encoded data removed]",
      "text/plain": [
       "<Figure size 800x500 with 1 Axes>"
      ]
     },
     "metadata": {},
     "output_type": "display_data"
    }
   ],
   "source": [
    "import matplotlib.pyplot as plt\n",
    "import numpy as np\n",
    "\n",
    "# Sample sizes and clicks\n",
    "n_A, clicks_A = 1000, 100\n",
    "n_B, clicks_B = 1000, 120\n",
    "\n",
    "# Proportions\n",
    "p_A = clicks_A / n_A\n",
    "p_B = clicks_B / n_B\n",
    "\n",
    "# Standard error for proportion\n",
    "se_A = np.sqrt(p_A * (1 - p_A) / n_A)\n",
    "se_B = np.sqrt(p_B * (1 - p_B) / n_B)\n",
    "\n",
    "# 95% confidence intervals\n",
    "ci_A = (p_A - 1.96 * se_A, p_A + 1.96 * se_A)\n",
    "ci_B = (p_B - 1.96 * se_B, p_B + 1.96 * se_B)\n",
    "\n",
    "# Plotting\n",
    "plt.figure(figsize=(8, 5))\n",
    "plt.errorbar([\"Variante A\", \"Variante B\"], [p_A, p_B],\n",
    "             yerr=[1.96*se_A, 1.96*se_B], fmt='o', capsize=10, color=\"darkblue\")\n",
    "\n",
    "plt.title(\"📊 Click-Through Rates with 95% Confidence Intervals\")\n",
    "plt.ylabel(\"Klickrate (CTR)\")\n",
    "plt.ylim(0, 0.15)\n",
    "plt.grid(True)\n",
    "plt.show()"
   ]
  }
 ],
 "metadata": {
  "kernelspec": {
   "display_name": "Python 3 (ipykernel)",
   "language": "python",
   "name": "python3"
  },
  "language_info": {
   "codemirror_mode": {
    "name": "ipython",
    "version": 3
   },
   "file_extension": ".py",
   "mimetype": "text/x-python",
   "name": "python",
   "nbconvert_exporter": "python",
   "pygments_lexer": "ipython3",
   "version": "3.8.8"
  }
 },
 "nbformat": 4,
 "nbformat_minor": 5
}
